{
  "nbformat": 4,
  "nbformat_minor": 0,
  "metadata": {
    "colab": {
      "provenance": [],
      "collapsed_sections": []
    },
    "kernelspec": {
      "name": "python3",
      "display_name": "Python 3"
    },
    "language_info": {
      "name": "python"
    }
  },
  "cells": [
    {
      "cell_type": "code",
      "execution_count": 54,
      "metadata": {
        "id": "fiN3C9vO6JA2"
      },
      "outputs": [],
      "source": [
        "#IMPORTING LIBRARIES\n",
        "import csv\n",
        "import pandas as pd\n",
        "import numpy as np\n",
        "import plotly.express as px\n",
        "import matplotlib.pyplot as plt\n",
        "import seaborn as sns\n",
        "from sklearn.preprocessing import StandardScaler\n",
        "import seaborn as sns"
      ]
    },
    {
      "cell_type": "code",
      "source": [
        "#QUESTION 1\n",
        "#FINDING NUMBER OF ROWS AND COLUMNS\n",
        "df = pd.read_csv('ipl_auc.csv')\n",
        "print(\"No. of rows: \",df.shape[0])\n",
        "print(\"No. of columns: \",df.shape[1])"
      ],
      "metadata": {
        "colab": {
          "base_uri": "https://localhost:8080/"
        },
        "id": "7PYYJpmH8c_E",
        "outputId": "3fd974a4-dad7-48c8-b86c-cce31d23b23c"
      },
      "execution_count": 55,
      "outputs": [
        {
          "output_type": "stream",
          "name": "stdout",
          "text": [
            "No. of rows:  589\n",
            "No. of columns:  17\n"
          ]
        }
      ]
    },
    {
      "cell_type": "code",
      "source": [
        "#BASIC ANALYSIS\n",
        "df_head = df.head()\n",
        "print(df_head)\n",
        "df_tail = df.tail()\n",
        "print(df_tail)\n",
        "df.columns = df.columns.str.replace(' ', '')\n",
        "print(df.info())\n",
        "print(df.shape)\n",
        "print(df.describe(include=\"all\"))"
      ],
      "metadata": {
        "colab": {
          "base_uri": "https://localhost:8080/"
        },
        "id": "WBYY-iEN8nDR",
        "outputId": "5b1e5bbb-4f88-43c0-c7a7-dc94f77d7b69"
      },
      "execution_count": 56,
      "outputs": [
        {
          "output_type": "stream",
          "name": "stdout",
          "text": [
            "   Set No. Set Name          Player       Country State Association  Age  \\\n",
            "0        1        M     Trent Boult   New Zealand               NaN   32   \n",
            "1        1        M     Pat Cummins     Australia               NaN   28   \n",
            "2        1        M  Shikhar Dhawan         India              DDCA   36   \n",
            "3        1        M    Shreyas Iyer         India               MCA   27   \n",
            "4        1        M   Kagiso Rabada  South Africa               NaN   26   \n",
            "\n",
            "    Specialism Batting               Bowling    IPL Previous IPLTeam(s)  \\\n",
            "0       BOWLER     RHB  LEFT ARM Fast Medium   62.0     SRH, KKR, DD,MI   \n",
            "1  ALL-ROUNDER     RHB        RIGHT ARM Fast   37.0         DD, MI, KKR   \n",
            "2      BATSMAN     LHB                     -  192.0    DCH, MI, SRH, DC   \n",
            "3      BATSMAN     RHB    RIGHT ARM Leg Spin   87.0                  DC   \n",
            "4       BOWLER     LHB        RIGHT ARM Fast   50.0                  DC   \n",
            "\n",
            "  2021 Team   C/U/A  Base Price  Sold Price          New Franchise   Bid  \n",
            "0        MI  Capped         200        8.00       Rajasthan Royals  Sold  \n",
            "1       KKR  Capped         200        7.25  Kolkata Knight Riders  Sold  \n",
            "2        DC  Capped         200        8.25           Punjab Kings  Sold  \n",
            "3        DC  Capped         200       12.25  Kolkata Knight Riders  Sold  \n",
            "4        DC  Capped         200        9.25           Punjab Kings  Sold  \n",
            "     Set No. Set Name               Player       Country State Association  \\\n",
            "584       62    UAL15       Safyaan Sharif      Scotland               NaN   \n",
            "585       62    UAL15        Henry Shipley   New Zealand               NaN   \n",
            "586       62    UAL15  Maxwell Swaminathan         India               MCA   \n",
            "587       62    UAL15        Johan Van Dyk  South Africa               NaN   \n",
            "588       62    UAL15     Dunith Wellalage     Sri Lanka               NaN   \n",
            "\n",
            "     Age   Specialism Batting                 Bowling  IPL  \\\n",
            "584   30  ALL-ROUNDER     RHB   RIGHT ARM Fast Medium  NaN   \n",
            "585   25  ALL-ROUNDER     RHB   RIGHT ARM Fast Medium  NaN   \n",
            "586   23  ALL-ROUNDER     RHB      RIGHT ARM Off Spin  NaN   \n",
            "587   28  ALL-ROUNDER     RHB   RIGHT ARM Fast Medium  NaN   \n",
            "588   19  ALL-ROUNDER     LHB  LEFT ARM Slow Orthodox  NaN   \n",
            "\n",
            "    Previous IPLTeam(s) 2021 Team      C/U/A  Base Price  Sold Price  \\\n",
            "584                 NaN       NaN  Associate          20         NaN   \n",
            "585                 NaN       NaN   Uncapped          20         NaN   \n",
            "586                 NaN       NaN   Uncapped          20         NaN   \n",
            "587                 NaN       NaN   Uncapped          20         NaN   \n",
            "588                 NaN       NaN   Uncapped          20         NaN   \n",
            "\n",
            "    New Franchise     Bid  \n",
            "584           NaN  UnSold  \n",
            "585           NaN  UnSold  \n",
            "586           NaN  UnSold  \n",
            "587           NaN  UnSold  \n",
            "588           NaN  UnSold  \n",
            "<class 'pandas.core.frame.DataFrame'>\n",
            "RangeIndex: 589 entries, 0 to 588\n",
            "Data columns (total 17 columns):\n",
            " #   Column              Non-Null Count  Dtype  \n",
            "---  ------              --------------  -----  \n",
            " 0   SetNo.              589 non-null    int64  \n",
            " 1   SetName             589 non-null    object \n",
            " 2   Player              589 non-null    object \n",
            " 3   Country             589 non-null    object \n",
            " 4   StateAssociation    369 non-null    object \n",
            " 5   Age                 589 non-null    int64  \n",
            " 6   Specialism          589 non-null    object \n",
            " 7   Batting             589 non-null    object \n",
            " 8   Bowling             589 non-null    object \n",
            " 9   IPL                 270 non-null    float64\n",
            " 10  PreviousIPLTeam(s)  265 non-null    object \n",
            " 11  2021Team            165 non-null    object \n",
            " 12  C/U/A               589 non-null    object \n",
            " 13  BasePrice           589 non-null    int64  \n",
            " 14  SoldPrice           204 non-null    float64\n",
            " 15  NewFranchise        204 non-null    object \n",
            " 16  Bid                 589 non-null    object \n",
            "dtypes: float64(2), int64(3), object(12)\n",
            "memory usage: 78.4+ KB\n",
            "None\n",
            "(589, 17)\n",
            "            SetNo. SetName       Player Country StateAssociation         Age  \\\n",
            "count   589.000000     589          589     589              369  589.000000   \n",
            "unique         NaN      62          586      15               34         NaN   \n",
            "top            NaN   UAL15  Amit Mishra   India             TNCA         NaN   \n",
            "freq           NaN      12            2     369               30         NaN   \n",
            "mean     32.096774     NaN          NaN     NaN              NaN   26.955857   \n",
            "std      17.890516     NaN          NaN     NaN              NaN    4.690208   \n",
            "min       1.000000     NaN          NaN     NaN              NaN   17.000000   \n",
            "25%      17.000000     NaN          NaN     NaN              NaN   23.000000   \n",
            "50%      32.000000     NaN          NaN     NaN              NaN   27.000000   \n",
            "75%      48.000000     NaN          NaN     NaN              NaN   30.000000   \n",
            "max      62.000000     NaN          NaN     NaN              NaN   43.000000   \n",
            "\n",
            "         Specialism Batting                Bowling         IPL  \\\n",
            "count           589     589                    589  270.000000   \n",
            "unique            4       2                     11         NaN   \n",
            "top     ALL-ROUNDER     RHB  RIGHT ARM Fast Medium         NaN   \n",
            "freq            227     415                    126         NaN   \n",
            "mean            NaN     NaN                    NaN   29.425926   \n",
            "std             NaN     NaN                    NaN   42.904494   \n",
            "min             NaN     NaN                    NaN    0.000000   \n",
            "25%             NaN     NaN                    NaN    1.000000   \n",
            "50%             NaN     NaN                    NaN   10.500000   \n",
            "75%             NaN     NaN                    NaN   38.750000   \n",
            "max             NaN     NaN                    NaN  213.000000   \n",
            "\n",
            "       PreviousIPLTeam(s) 2021Team     C/U/A   BasePrice   SoldPrice  \\\n",
            "count                 265      165       589  589.000000  204.000000   \n",
            "unique                137        8         3         NaN         NaN   \n",
            "top                   RCB      SRH  Uncapped         NaN         NaN   \n",
            "freq                   20       22       354         NaN         NaN   \n",
            "mean                  NaN      NaN       NaN   51.926995    2.686961   \n",
            "std                   NaN      NaN       NaN   53.467166    3.331816   \n",
            "min                   NaN      NaN       NaN   20.000000    0.190000   \n",
            "25%                   NaN      NaN       NaN   20.000000    0.200000   \n",
            "50%                   NaN      NaN       NaN   20.000000    1.000000   \n",
            "75%                   NaN      NaN       NaN   50.000000    4.000000   \n",
            "max                   NaN      NaN       NaN  200.000000   15.250000   \n",
            "\n",
            "        NewFranchise     Bid  \n",
            "count            204     589  \n",
            "unique            12       2  \n",
            "top     Punjab Kings  UnSold  \n",
            "freq              23     385  \n",
            "mean             NaN     NaN  \n",
            "std              NaN     NaN  \n",
            "min              NaN     NaN  \n",
            "25%              NaN     NaN  \n",
            "50%              NaN     NaN  \n",
            "75%              NaN     NaN  \n",
            "max              NaN     NaN  \n"
          ]
        }
      ]
    },
    {
      "cell_type": "code",
      "source": [
        "#QUESTION 2\n",
        "#FINDING THE NULL/MISSING VALUES IN EACH COLUMN\n",
        "print(\" total NaN at each column in the DataFrame :\\n \",df.isnull().sum())\n",
        "print(\" total NaN in The DataFrame :\\n \",df.isnull().sum().sum())\n",
        "df.dropna(inplace=True)\n",
        "\n",
        "#OUTLIERS:\n",
        "q1,q3=df.IPL.quantile([0.25,0.75])\n",
        "IQR=q3-q1\n",
        "lower,upper=q1-(1.5*IQR),q3+(1.5*IQR)\n",
        "outlying_data=df[(df.IPL<lower)|(df.IPL>upper)]\n",
        "outlying_data.index.values"
      ],
      "metadata": {
        "colab": {
          "base_uri": "https://localhost:8080/"
        },
        "id": "3ij25Ex9827A",
        "outputId": "4a579d73-622d-418f-d4e8-79699deef3aa"
      },
      "execution_count": 57,
      "outputs": [
        {
          "output_type": "stream",
          "name": "stdout",
          "text": [
            " total NaN at each column in the DataFrame :\n",
            "  SetNo.                  0\n",
            "SetName                 0\n",
            "Player                  0\n",
            "Country                 0\n",
            "StateAssociation      220\n",
            "Age                     0\n",
            "Specialism              0\n",
            "Batting                 0\n",
            "Bowling                 0\n",
            "IPL                   319\n",
            "PreviousIPLTeam(s)    324\n",
            "2021Team              424\n",
            "C/U/A                   0\n",
            "BasePrice               0\n",
            "SoldPrice             385\n",
            "NewFranchise          385\n",
            "Bid                     0\n",
            "dtype: int64\n",
            " total NaN in The DataFrame :\n",
            "  2057\n"
          ]
        },
        {
          "output_type": "execute_result",
          "data": {
            "text/plain": [
              "array([ 2,  6, 15, 26, 29])"
            ]
          },
          "metadata": {},
          "execution_count": 57
        }
      ]
    },
    {
      "cell_type": "code",
      "source": [
        "#OUTLIER ANALYSIS\n",
        "#PLOTTING BOX PLOT\n",
        "IPL_BoxPlot = df.boxplot( column =['IPL'], grid = False)\n"
      ],
      "metadata": {
        "colab": {
          "base_uri": "https://localhost:8080/",
          "height": 265
        },
        "id": "XPXoCQh8GEMK",
        "outputId": "06f4bb2d-3bce-4bb3-b23e-27932dcc4e5b"
      },
      "execution_count": 58,
      "outputs": [
        {
          "output_type": "display_data",
          "data": {
            "text/plain": [
              "<Figure size 432x288 with 1 Axes>"
            ],
            "image/png": "[encoded data removed]"
          },
          "metadata": {
            "needs_background": "light"
          }
        }
      ]
    },
    {
      "cell_type": "code",
      "source": [
        "Age_BoxPlot = df.boxplot( column =['Age'], grid = False)"
      ],
      "metadata": {
        "colab": {
          "base_uri": "https://localhost:8080/",
          "height": 265
        },
        "id": "GoZm41rFGRla",
        "outputId": "b6c87c91-a583-4f00-de92-2926388dc533"
      },
      "execution_count": 59,
      "outputs": [
        {
          "output_type": "display_data",
          "data": {
            "text/plain": [
              "<Figure size 432x288 with 1 Axes>"
            ],
            "image/png": "[encoded data removed]"
          },
          "metadata": {
            "needs_background": "light"
          }
        }
      ]
    },
    {
      "cell_type": "code",
      "source": [
        "BasePrice_BoxPlot = df.boxplot( column =['BasePrice'], grid = False)"
      ],
      "metadata": {
        "colab": {
          "base_uri": "https://localhost:8080/",
          "height": 265
        },
        "id": "vA90HVjOGSBl",
        "outputId": "103bf118-fe1c-4d0c-f685-e3c0786464fe"
      },
      "execution_count": 60,
      "outputs": [
        {
          "output_type": "display_data",
          "data": {
            "text/plain": [
              "<Figure size 432x288 with 1 Axes>"
            ],
            "image/png": "[encoded data removed]"
          },
          "metadata": {
            "needs_background": "light"
          }
        }
      ]
    },
    {
      "cell_type": "code",
      "source": [
        "#QUESTION 3\n",
        "#FINDING DUPLICATE DATA\n",
        "print(\"Duplicated Values in Specialism:\\n\",df['Specialism'].duplicated())\n",
        "print(\"Duplicated Values in Batting:\\n\",df['Batting'].duplicated())\n",
        "print(\"Duplicated Values in Bowling:\\n\",df['Bowling'].duplicated())\n",
        "print(\"Duplicated Values in Player:\\n\",df['Player'].duplicated())\n",
        "print(\"Duplicated Values in Number of IPL matches played:\\n\",df['IPL'].duplicated())\n",
        "#INCONSISTENT DATA:\n",
        "print(df.dtypes)\n",
        "#IPL datatype should be int64\n",
        "#Converting \n",
        "df.IPL = df.IPL.apply(int)\n",
        "df.SoldPrice = df.SoldPrice.apply(float)"
      ],
      "metadata": {
        "colab": {
          "base_uri": "https://localhost:8080/"
        },
        "id": "a2Zjh7y89DJV",
        "outputId": "0b4b9da8-7ade-4e99-d3cd-a6c6532faed8"
      },
      "execution_count": 61,
      "outputs": [
        {
          "output_type": "stream",
          "name": "stdout",
          "text": [
            "Duplicated Values in Specialism:\n",
            " 2      False\n",
            "3       True\n",
            "5      False\n",
            "6      False\n",
            "12      True\n",
            "       ...  \n",
            "201     True\n",
            "203     True\n",
            "205     True\n",
            "213     True\n",
            "503     True\n",
            "Name: Specialism, Length: 84, dtype: bool\n",
            "Duplicated Values in Batting:\n",
            " 2      False\n",
            "3      False\n",
            "5       True\n",
            "6       True\n",
            "12      True\n",
            "       ...  \n",
            "201     True\n",
            "203     True\n",
            "205     True\n",
            "213     True\n",
            "503     True\n",
            "Name: Batting, Length: 84, dtype: bool\n",
            "Duplicated Values in Bowling:\n",
            " 2      False\n",
            "3      False\n",
            "5      False\n",
            "6      False\n",
            "12      True\n",
            "       ...  \n",
            "201     True\n",
            "203     True\n",
            "205     True\n",
            "213     True\n",
            "503     True\n",
            "Name: Bowling, Length: 84, dtype: bool\n",
            "Duplicated Values in Player:\n",
            " 2      False\n",
            "3      False\n",
            "5      False\n",
            "6      False\n",
            "12     False\n",
            "       ...  \n",
            "201    False\n",
            "203    False\n",
            "205    False\n",
            "213    False\n",
            "503    False\n",
            "Name: Player, Length: 84, dtype: bool\n",
            "Duplicated Values in Number of IPL matches played:\n",
            " 2      False\n",
            "3      False\n",
            "5      False\n",
            "6      False\n",
            "12     False\n",
            "       ...  \n",
            "201     True\n",
            "203     True\n",
            "205     True\n",
            "213     True\n",
            "503     True\n",
            "Name: IPL, Length: 84, dtype: bool\n",
            "SetNo.                  int64\n",
            "SetName                object\n",
            "Player                 object\n",
            "Country                object\n",
            "StateAssociation       object\n",
            "Age                     int64\n",
            "Specialism             object\n",
            "Batting                object\n",
            "Bowling                object\n",
            "IPL                   float64\n",
            "PreviousIPLTeam(s)     object\n",
            "2021Team               object\n",
            "C/U/A                  object\n",
            "BasePrice               int64\n",
            "SoldPrice             float64\n",
            "NewFranchise           object\n",
            "Bid                    object\n",
            "dtype: object\n"
          ]
        }
      ]
    },
    {
      "cell_type": "code",
      "source": [
        "#QUESTION 4\n",
        "#CORRELATION ANALYSIS\n",
        "print(df.corr(method='pearson'))"
      ],
      "metadata": {
        "colab": {
          "base_uri": "https://localhost:8080/"
        },
        "id": "kkvUWZ83IXOl",
        "outputId": "9752f298-7601-4364-b250-6ce12cafe99e"
      },
      "execution_count": 62,
      "outputs": [
        {
          "output_type": "stream",
          "name": "stdout",
          "text": [
            "             SetNo.       Age       IPL  BasePrice  SoldPrice\n",
            "SetNo.     1.000000 -0.296000 -0.413219  -0.490229  -0.468649\n",
            "Age       -0.296000  1.000000  0.725228   0.510550   0.065158\n",
            "IPL       -0.413219  0.725228  1.000000   0.724612   0.313325\n",
            "BasePrice -0.490229  0.510550  0.724612   1.000000   0.634683\n",
            "SoldPrice -0.468649  0.065158  0.313325   0.634683   1.000000\n"
          ]
        }
      ]
    },
    {
      "cell_type": "code",
      "source": [
        "#PLOTTING HEATMAP FOR CORRELATION ANALYSIS\n",
        "fig = plt.figure(figsize=(15,10))\n",
        "sns.heatmap(df.corr(method='pearson'), annot = True, cmap=\"Blues\")\n",
        "plt.title(\"Correlation Heatmap\")"
      ],
      "metadata": {
        "colab": {
          "base_uri": "https://localhost:8080/",
          "height": 624
        },
        "id": "wN75gT0kIYW1",
        "outputId": "14497999-70a2-4387-eac4-16fa139c620f"
      },
      "execution_count": 63,
      "outputs": [
        {
          "output_type": "execute_result",
          "data": {
            "text/plain": [
              "Text(0.5, 1.0, 'Correlation Heatmap')"
            ]
          },
          "metadata": {},
          "execution_count": 63
        },
        {
          "output_type": "display_data",
          "data": {
            "text/plain": [
              "<Figure size 1080x720 with 2 Axes>"
            ],
            "image/png": "[encoded data removed]"
          },
          "metadata": {
            "needs_background": "light"
          }
        }
      ]
    },
    {
      "cell_type": "code",
      "source": [
        "#QUESTION 5\n",
        "#PRE PROCESSING OF INCONSISTENT DATA\n",
        "df2 = df[df[\"SoldPrice\"].notna()] #dropping null values from column Sold Price\n",
        "df['SoldPrice'].isnull().sum()\n",
        "print(df.corr(method='pearson'))\n",
        "'''Since Base Price has high correlation we will drop the feature Base Price'''\n",
        "df.drop(['BasePrice'], axis=1)\n",
        "'''We will not be using Data- dimensionality or range transformation as the Dataset is not huge and range of values of features need not be within -1 to 1 range'''\n",
        "\n"
      ],
      "metadata": {
        "id": "Amby8wv6C483",
        "colab": {
          "base_uri": "https://localhost:8080/",
          "height": 140
        },
        "outputId": "1108ed48-0956-44e2-ae87-8e655cc1cba3"
      },
      "execution_count": 64,
      "outputs": [
        {
          "output_type": "stream",
          "name": "stdout",
          "text": [
            "             SetNo.       Age       IPL  BasePrice  SoldPrice\n",
            "SetNo.     1.000000 -0.296000 -0.413219  -0.490229  -0.468649\n",
            "Age       -0.296000  1.000000  0.725228   0.510550   0.065158\n",
            "IPL       -0.413219  0.725228  1.000000   0.724612   0.313325\n",
            "BasePrice -0.490229  0.510550  0.724612   1.000000   0.634683\n",
            "SoldPrice -0.468649  0.065158  0.313325   0.634683   1.000000\n"
          ]
        },
        {
          "output_type": "execute_result",
          "data": {
            "text/plain": [
              "'We will not be using Data- dimensionality or range transformation as the Dataset is not huge and range of values of features need not be within -1 to 1 range'"
            ],
            "application/vnd.google.colaboratory.intrinsic+json": {
              "type": "string"
            }
          },
          "metadata": {},
          "execution_count": 64
        }
      ]
    },
    {
      "cell_type": "code",
      "source": [
        "#QUESTION 6\n",
        "Roles = print(f\"Dataset contains data of \\033[1m{df.Specialism.unique().size}\\033[0m Roles\")\n",
        "print(df.Specialism.unique())\n",
        "\n",
        "Teams = print(f\"Dataset contains data of \\033[1m{df.NewFranchise.unique().size}\\033[0m Teams\")\n",
        "print(df.NewFranchise.unique())\n",
        "\n",
        "'''From this graph we can visualise that The AGE for Wicketkeepers is the highest'''\n",
        "\n",
        "#PCA \n",
        "'''PCA does help visualize the data as it helps in overcoming the overfitting issue by reducing the number of features. \n",
        "It is very hard to visualize and understand the data in high dimensions. \n",
        "PCA transforms a high dimensional data to low dimensional data (2 or 3 dimension) so that it can be visualized easily\n",
        "But for our dataset we will not be using PCA as the dimensions of our dataset is not that large. '''\n",
        "\n"
      ],
      "metadata": {
        "colab": {
          "base_uri": "https://localhost:8080/",
          "height": 192
        },
        "id": "Mp76JQ9PJ6kS",
        "outputId": "6fe480b6-7877-4432-c94b-4fb7b2cafd5c"
      },
      "execution_count": 65,
      "outputs": [
        {
          "output_type": "stream",
          "name": "stdout",
          "text": [
            "Dataset contains data of \u001b[1m4\u001b[0m Roles\n",
            "['BATSMAN' 'BOWLER' 'ALL-ROUNDER' 'WICKETKEEPER']\n",
            "Dataset contains data of \u001b[1m11\u001b[0m Teams\n",
            "['Punjab Kings' 'Kolkata Knight Riders' 'Gujarat Titans'\n",
            " 'Rajasthan Royals' 'Lucknow Super Giants' 'Chennai Super Kings'\n",
            " 'Royal Challengers Bangalore' 'Sunrisers Hyderabad' 'Mumbai Indians'\n",
            " 'Delhi Capitals' 'Luknow Super Giants']\n"
          ]
        },
        {
          "output_type": "execute_result",
          "data": {
            "text/plain": [
              "'PCA does help visualize the data as it helps in overcoming the overfitting issue by reducing the number of features. \\nIt is very hard to visualize and understand the data in high dimensions. \\nPCA transforms a high dimensional data to low dimensional data (2 or 3 dimension) so that it can be visualized easily\\nBut for our dataset we will not be using PCA as the dimensions of our dataset is not that large. '"
            ],
            "application/vnd.google.colaboratory.intrinsic+json": {
              "type": "string"
            }
          },
          "metadata": {},
          "execution_count": 65
        }
      ]
    },
    {
      "cell_type": "code",
      "source": [
        "#BAR CHART \n",
        "print(plt.bar(df.Specialism,df.Age))\n"
      ],
      "metadata": {
        "colab": {
          "base_uri": "https://localhost:8080/",
          "height": 282
        },
        "id": "JK2whMUlKisJ",
        "outputId": "c019a598-1536-4a66-f5ce-b5c10bd47830"
      },
      "execution_count": 66,
      "outputs": [
        {
          "output_type": "stream",
          "name": "stdout",
          "text": [
            "<BarContainer object of 84 artists>\n"
          ]
        },
        {
          "output_type": "display_data",
          "data": {
            "text/plain": [
              "<Figure size 432x288 with 1 Axes>"
            ],
            "image/png": "[encoded data removed]"
          },
          "metadata": {
            "needs_background": "light"
          }
        }
      ]
    },
    {
      "cell_type": "code",
      "source": [
        "print(plt.bar(df.SetName,df.Age))"
      ],
      "metadata": {
        "colab": {
          "base_uri": "https://localhost:8080/",
          "height": 282
        },
        "id": "jmAkq3MdKoKz",
        "outputId": "e5e9261c-e247-41a3-d531-e8d49d5f1cc2"
      },
      "execution_count": 67,
      "outputs": [
        {
          "output_type": "stream",
          "name": "stdout",
          "text": [
            "<BarContainer object of 84 artists>\n"
          ]
        },
        {
          "output_type": "display_data",
          "data": {
            "text/plain": [
              "<Figure size 432x288 with 1 Axes>"
            ],
            "image/png": "[encoded data removed]"
          },
          "metadata": {
            "needs_background": "light"
          }
        }
      ]
    },
    {
      "cell_type": "code",
      "source": [
        "print(plt.bar(df.Batting,df.Age))"
      ],
      "metadata": {
        "colab": {
          "base_uri": "https://localhost:8080/",
          "height": 282
        },
        "id": "UgziQE5FKoY0",
        "outputId": "a4dd0208-1d23-499d-9f12-6acbfbd0c909"
      },
      "execution_count": 68,
      "outputs": [
        {
          "output_type": "stream",
          "name": "stdout",
          "text": [
            "<BarContainer object of 84 artists>\n"
          ]
        },
        {
          "output_type": "display_data",
          "data": {
            "text/plain": [
              "<Figure size 432x288 with 1 Axes>"
            ],
            "image/png": "[encoded data removed]"
          },
          "metadata": {
            "needs_background": "light"
          }
        }
      ]
    },
    {
      "cell_type": "code",
      "source": [
        "print(plt.bar(df.Bowling,df.Age))"
      ],
      "metadata": {
        "colab": {
          "base_uri": "https://localhost:8080/",
          "height": 282
        },
        "id": "KbMtSRBfMUKX",
        "outputId": "9d584034-6c69-47cc-ee3e-1d7e4149cc81"
      },
      "execution_count": 69,
      "outputs": [
        {
          "output_type": "stream",
          "name": "stdout",
          "text": [
            "<BarContainer object of 84 artists>\n"
          ]
        },
        {
          "output_type": "display_data",
          "data": {
            "text/plain": [
              "<Figure size 432x288 with 1 Axes>"
            ],
            "image/png": "[encoded data removed]"
          },
          "metadata": {
            "needs_background": "light"
          }
        }
      ]
    },
    {
      "cell_type": "code",
      "source": [
        "print(plt.bar(df.NewFranchise,df.Age))"
      ],
      "metadata": {
        "colab": {
          "base_uri": "https://localhost:8080/",
          "height": 282
        },
        "id": "dx7MRt58Pvnv",
        "outputId": "9b507cb5-a3ec-497a-c3e8-f2c9b0aaf147"
      },
      "execution_count": 76,
      "outputs": [
        {
          "output_type": "stream",
          "name": "stdout",
          "text": [
            "<BarContainer object of 84 artists>\n"
          ]
        },
        {
          "output_type": "display_data",
          "data": {
            "text/plain": [
              "<Figure size 432x288 with 1 Axes>"
            ],
            "image/png": "[encoded data removed]"
          },
          "metadata": {
            "needs_background": "light"
          }
        }
      ]
    },
    {
      "cell_type": "code",
      "source": [
        "#HISTOGRAM\n",
        "print(df['IPL'].plot(kind='hist',bins=15))"
      ],
      "metadata": {
        "colab": {
          "base_uri": "https://localhost:8080/",
          "height": 282
        },
        "id": "hopfH8Q6Mql8",
        "outputId": "7a9b5243-616d-40f5-d273-c6755c0b3163"
      },
      "execution_count": 70,
      "outputs": [
        {
          "output_type": "stream",
          "name": "stdout",
          "text": [
            "AxesSubplot(0.125,0.125;0.775x0.755)\n"
          ]
        },
        {
          "output_type": "display_data",
          "data": {
            "text/plain": [
              "<Figure size 432x288 with 1 Axes>"
            ],
            "image/png": "[encoded data removed]"
          },
          "metadata": {
            "needs_background": "light"
          }
        }
      ]
    },
    {
      "cell_type": "code",
      "source": [
        "print(df['Age'].plot(kind='hist',bins=20))"
      ],
      "metadata": {
        "colab": {
          "base_uri": "https://localhost:8080/",
          "height": 282
        },
        "id": "qSWxTwiHNf17",
        "outputId": "ba772fad-258e-4229-8959-5b2d64f60bf2"
      },
      "execution_count": 71,
      "outputs": [
        {
          "output_type": "stream",
          "name": "stdout",
          "text": [
            "AxesSubplot(0.125,0.125;0.775x0.755)\n"
          ]
        },
        {
          "output_type": "display_data",
          "data": {
            "text/plain": [
              "<Figure size 432x288 with 1 Axes>"
            ],
            "image/png": "[encoded data removed]"
          },
          "metadata": {
            "needs_background": "light"
          }
        }
      ]
    },
    {
      "cell_type": "code",
      "source": [
        "print(df['SoldPrice'].plot(kind='hist',bins=20))\n"
      ],
      "metadata": {
        "colab": {
          "base_uri": "https://localhost:8080/",
          "height": 282
        },
        "id": "dlh_2Mh1OexE",
        "outputId": "410e527a-fb97-4044-e317-aa1a05d64701"
      },
      "execution_count": 73,
      "outputs": [
        {
          "output_type": "stream",
          "name": "stdout",
          "text": [
            "AxesSubplot(0.125,0.125;0.775x0.755)\n"
          ]
        },
        {
          "output_type": "display_data",
          "data": {
            "text/plain": [
              "<Figure size 432x288 with 1 Axes>"
            ],
            "image/png": "[encoded data removed]"
          },
          "metadata": {
            "needs_background": "light"
          }
        }
      ]
    },
    {
      "cell_type": "code",
      "source": [
        "print(df['BasePrice'].plot(kind='hist',bins=15))"
      ],
      "metadata": {
        "colab": {
          "base_uri": "https://localhost:8080/",
          "height": 282
        },
        "id": "Ece57HgPPcOy",
        "outputId": "1f70b840-98ef-4f23-e0ff-0361de14bda1"
      },
      "execution_count": 75,
      "outputs": [
        {
          "output_type": "stream",
          "name": "stdout",
          "text": [
            "AxesSubplot(0.125,0.125;0.775x0.755)\n"
          ]
        },
        {
          "output_type": "display_data",
          "data": {
            "text/plain": [
              "<Figure size 432x288 with 1 Axes>"
            ],
            "image/png": "[encoded data removed]"
          },
          "metadata": {
            "needs_background": "light"
          }
        }
      ]
    }
  ]
}